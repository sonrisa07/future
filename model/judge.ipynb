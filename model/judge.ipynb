{
 "cells": [
  {
   "metadata": {
    "ExecuteTime": {
     "end_time": "2025-03-31T15:26:44.262206Z",
     "start_time": "2025-03-31T15:26:36.378294Z"
    }
   },
   "cell_type": "code",
   "source": [
    "import pandas as pd\n",
    "import numpy as np\n",
    "import os\n",
    "\n",
    "import torch\n",
    "\n",
    "from utils import get_path\n",
    "\n",
    "user_df = pd.read_csv(get_path('user.csv'))\n",
    "load_df = pd.read_csv(get_path('load.csv'))\n",
    "server_df = pd.read_csv(get_path('server.csv'))\n",
    "service_df = pd.read_csv(get_path('service.csv'))\n",
    "inv_df = pd.read_csv(get_path('invocation.csv'))"
   ],
   "id": "5443fbee75835f",
   "outputs": [],
   "execution_count": 1
  },
  {
   "metadata": {
    "ExecuteTime": {
     "end_time": "2024-12-23T08:23:36.521813Z",
     "start_time": "2024-12-23T08:23:36.083533Z"
    }
   },
   "cell_type": "code",
   "source": "inv_df[(inv_df['uid'] == 280) & (inv_df['eid'] == 532) & (inv_df['sid'] == 135) & (inv_df['timestamp'] == 267)]",
   "id": "ae491800069fee0e",
   "outputs": [
    {
     "data": {
      "text/plain": [
       "          uid  eid  sid  timestamp        rt  original_order\n",
       "16830949  280  532  135        267  1.251801        16830949\n",
       "16830950  280  532  135        267  1.251801        16830950\n",
       "16830971  280  532  135        267  1.251801        16830971\n",
       "16830976  280  532  135        267  1.251801        16830976\n",
       "16830978  280  532  135        267  1.251801        16830978\n",
       "16830989  280  532  135        267  1.251801        16830989\n",
       "16830994  280  532  135        267  1.251801        16830994"
      ],
      "text/html": [
       "<div>\n",
       "<style scoped>\n",
       "    .dataframe tbody tr th:only-of-type {\n",
       "        vertical-align: middle;\n",
       "    }\n",
       "\n",
       "    .dataframe tbody tr th {\n",
       "        vertical-align: top;\n",
       "    }\n",
       "\n",
       "    .dataframe thead th {\n",
       "        text-align: right;\n",
       "    }\n",
       "</style>\n",
       "<table border=\"1\" class=\"dataframe\">\n",
       "  <thead>\n",
       "    <tr style=\"text-align: right;\">\n",
       "      <th></th>\n",
       "      <th>uid</th>\n",
       "      <th>eid</th>\n",
       "      <th>sid</th>\n",
       "      <th>timestamp</th>\n",
       "      <th>rt</th>\n",
       "      <th>original_order</th>\n",
       "    </tr>\n",
       "  </thead>\n",
       "  <tbody>\n",
       "    <tr>\n",
       "      <th>16830949</th>\n",
       "      <td>280</td>\n",
       "      <td>532</td>\n",
       "      <td>135</td>\n",
       "      <td>267</td>\n",
       "      <td>1.251801</td>\n",
       "      <td>16830949</td>\n",
       "    </tr>\n",
       "    <tr>\n",
       "      <th>16830950</th>\n",
       "      <td>280</td>\n",
       "      <td>532</td>\n",
       "      <td>135</td>\n",
       "      <td>267</td>\n",
       "      <td>1.251801</td>\n",
       "      <td>16830950</td>\n",
       "    </tr>\n",
       "    <tr>\n",
       "      <th>16830971</th>\n",
       "      <td>280</td>\n",
       "      <td>532</td>\n",
       "      <td>135</td>\n",
       "      <td>267</td>\n",
       "      <td>1.251801</td>\n",
       "      <td>16830971</td>\n",
       "    </tr>\n",
       "    <tr>\n",
       "      <th>16830976</th>\n",
       "      <td>280</td>\n",
       "      <td>532</td>\n",
       "      <td>135</td>\n",
       "      <td>267</td>\n",
       "      <td>1.251801</td>\n",
       "      <td>16830976</td>\n",
       "    </tr>\n",
       "    <tr>\n",
       "      <th>16830978</th>\n",
       "      <td>280</td>\n",
       "      <td>532</td>\n",
       "      <td>135</td>\n",
       "      <td>267</td>\n",
       "      <td>1.251801</td>\n",
       "      <td>16830978</td>\n",
       "    </tr>\n",
       "    <tr>\n",
       "      <th>16830989</th>\n",
       "      <td>280</td>\n",
       "      <td>532</td>\n",
       "      <td>135</td>\n",
       "      <td>267</td>\n",
       "      <td>1.251801</td>\n",
       "      <td>16830989</td>\n",
       "    </tr>\n",
       "    <tr>\n",
       "      <th>16830994</th>\n",
       "      <td>280</td>\n",
       "      <td>532</td>\n",
       "      <td>135</td>\n",
       "      <td>267</td>\n",
       "      <td>1.251801</td>\n",
       "      <td>16830994</td>\n",
       "    </tr>\n",
       "  </tbody>\n",
       "</table>\n",
       "</div>"
      ]
     },
     "execution_count": 27,
     "metadata": {},
     "output_type": "execute_result"
    }
   ],
   "execution_count": 27
  },
  {
   "metadata": {
    "ExecuteTime": {
     "end_time": "2024-12-23T08:23:43.046490Z",
     "start_time": "2024-12-23T08:23:43.020341Z"
    }
   },
   "cell_type": "code",
   "source": "user_df[(user_df['画id'] == 280) & (user_df['timestamp'] == 267)]",
   "id": "3b6d2e09285e0e73",
   "outputs": [
    {
     "data": {
      "text/plain": [
       "         id  timestamp         lon        lat  speed  direction  tot\n",
       "267622  280        267  121.337942  31.258022   17.3      141.0   66"
      ],
      "text/html": [
       "<div>\n",
       "<style scoped>\n",
       "    .dataframe tbody tr th:only-of-type {\n",
       "        vertical-align: middle;\n",
       "    }\n",
       "\n",
       "    .dataframe tbody tr th {\n",
       "        vertical-align: top;\n",
       "    }\n",
       "\n",
       "    .dataframe thead th {\n",
       "        text-align: right;\n",
       "    }\n",
       "</style>\n",
       "<table border=\"1\" class=\"dataframe\">\n",
       "  <thead>\n",
       "    <tr style=\"text-align: right;\">\n",
       "      <th></th>\n",
       "      <th>id</th>\n",
       "      <th>timestamp</th>\n",
       "      <th>lon</th>\n",
       "      <th>lat</th>\n",
       "      <th>speed</th>\n",
       "      <th>direction</th>\n",
       "      <th>tot</th>\n",
       "    </tr>\n",
       "  </thead>\n",
       "  <tbody>\n",
       "    <tr>\n",
       "      <th>267622</th>\n",
       "      <td>280</td>\n",
       "      <td>267</td>\n",
       "      <td>121.337942</td>\n",
       "      <td>31.258022</td>\n",
       "      <td>17.3</td>\n",
       "      <td>141.0</td>\n",
       "      <td>66</td>\n",
       "    </tr>\n",
       "  </tbody>\n",
       "</table>\n",
       "</div>"
      ]
     },
     "execution_count": 28,
     "metadata": {},
     "output_type": "execute_result"
    }
   ],
   "execution_count": 28
  },
  {
   "metadata": {
    "ExecuteTime": {
     "end_time": "2024-12-23T08:23:59.415212Z",
     "start_time": "2024-12-23T08:23:59.391574Z"
    }
   },
   "cell_type": "code",
   "source": "load_df[(load_df['eid'] == 532) & (load_df['timestamp'] == 267)]",
   "id": "5d1598523299fbf4",
   "outputs": [
    {
     "data": {
      "text/plain": [
       "        timestamp  eid computing_load storage_load bandwidth_load\n",
       "471253        267  532         87.15%       65.30%         39.48%"
      ],
      "text/html": [
       "<div>\n",
       "<style scoped>\n",
       "    .dataframe tbody tr th:only-of-type {\n",
       "        vertical-align: middle;\n",
       "    }\n",
       "\n",
       "    .dataframe tbody tr th {\n",
       "        vertical-align: top;\n",
       "    }\n",
       "\n",
       "    .dataframe thead th {\n",
       "        text-align: right;\n",
       "    }\n",
       "</style>\n",
       "<table border=\"1\" class=\"dataframe\">\n",
       "  <thead>\n",
       "    <tr style=\"text-align: right;\">\n",
       "      <th></th>\n",
       "      <th>timestamp</th>\n",
       "      <th>eid</th>\n",
       "      <th>computing_load</th>\n",
       "      <th>storage_load</th>\n",
       "      <th>bandwidth_load</th>\n",
       "    </tr>\n",
       "  </thead>\n",
       "  <tbody>\n",
       "    <tr>\n",
       "      <th>471253</th>\n",
       "      <td>267</td>\n",
       "      <td>532</td>\n",
       "      <td>87.15%</td>\n",
       "      <td>65.30%</td>\n",
       "      <td>39.48%</td>\n",
       "    </tr>\n",
       "  </tbody>\n",
       "</table>\n",
       "</div>"
      ]
     },
     "execution_count": 29,
     "metadata": {},
     "output_type": "execute_result"
    }
   ],
   "execution_count": 29
  },
  {
   "metadata": {
    "ExecuteTime": {
     "end_time": "2024-12-23T08:24:02.653956Z",
     "start_time": "2024-12-23T08:24:02.636207Z"
    }
   },
   "cell_type": "code",
   "source": "server_df[server_df['eid'] == 532]",
   "id": "8b231926806d732f",
   "outputs": [
    {
     "data": {
      "text/plain": [
       "     eid         lon        lat  radius  computing  storage  bandwidth\n",
       "532  532  121.340352  31.260888     707          4        1          6"
      ],
      "text/html": [
       "<div>\n",
       "<style scoped>\n",
       "    .dataframe tbody tr th:only-of-type {\n",
       "        vertical-align: middle;\n",
       "    }\n",
       "\n",
       "    .dataframe tbody tr th {\n",
       "        vertical-align: top;\n",
       "    }\n",
       "\n",
       "    .dataframe thead th {\n",
       "        text-align: right;\n",
       "    }\n",
       "</style>\n",
       "<table border=\"1\" class=\"dataframe\">\n",
       "  <thead>\n",
       "    <tr style=\"text-align: right;\">\n",
       "      <th></th>\n",
       "      <th>eid</th>\n",
       "      <th>lon</th>\n",
       "      <th>lat</th>\n",
       "      <th>radius</th>\n",
       "      <th>computing</th>\n",
       "      <th>storage</th>\n",
       "      <th>bandwidth</th>\n",
       "    </tr>\n",
       "  </thead>\n",
       "  <tbody>\n",
       "    <tr>\n",
       "      <th>532</th>\n",
       "      <td>532</td>\n",
       "      <td>121.340352</td>\n",
       "      <td>31.260888</td>\n",
       "      <td>707</td>\n",
       "      <td>4</td>\n",
       "      <td>1</td>\n",
       "      <td>6</td>\n",
       "    </tr>\n",
       "  </tbody>\n",
       "</table>\n",
       "</div>"
      ]
     },
     "execution_count": 30,
     "metadata": {},
     "output_type": "execute_result"
    }
   ],
   "execution_count": 30
  },
  {
   "metadata": {},
   "cell_type": "code",
   "source": "df",
   "id": "a1ced90d36a6b0ae",
   "outputs": [],
   "execution_count": null
  },
  {
   "metadata": {},
   "cell_type": "code",
   "source": [
    "t_df = pd.merge(left=load_df, right=server_df, left_on='eid', right_on='eid').reset_index(drop=True)\n",
    "t_df = t_df[['timestamp', 'eid', 'computing', 'storage', 'bandwidth']]\n",
    "service_df = pd.read_csv(get_path('service.csv'))\n",
    "temp_df = pd.merge(inv_df, service_df, left_on='sid', right_on='sid').reset_index(drop=True)\n",
    "t_df = pd.merge(t_df, temp_df, left_on=['timestamp', 'eid'], right_on=['timestamp', 'eid'], how='left',\n",
    "              suffixes=('_server', '_service')).reset_index(drop=True)\n",
    "t_df = t_df[['timestamp', 'eid', 'computing_server', 'storage_server', 'bandwidth_server', 'computing_service',\n",
    "         'storage_service', 'bandwidth_service']]\n",
    "t_df = t_df.groupby(['timestamp', 'eid', 'computing_server', 'storage_server', 'bandwidth_server']).agg(\n",
    "    {'computing_service': 'sum', 'storage_service': 'sum', 'bandwidth_service': 'sum'}).sort_values(\n",
    "    by='timestamp').reset_index()"
   ],
   "id": "584c05dd76291f48",
   "outputs": [],
   "execution_count": null
  },
  {
   "metadata": {},
   "cell_type": "code",
   "source": "t_df",
   "id": "ea52273e881e7520",
   "outputs": [],
   "execution_count": null
  },
  {
   "metadata": {},
   "cell_type": "code",
   "source": [
    "d = dict()\n",
    "\n",
    "ts = t_df['timestamp'].values\n",
    "e_ids = t_df['eid'].values\n",
    "tot_c = t_df['computing_service'].values\n",
    "tot_s = t_df['storage_service'].values\n",
    "tot_b = t_df['bandwidth_service'].values\n",
    "\n",
    "for i in range(len(ts)):\n",
    "    d[(e_ids[i], ts[i])] = (tot_c[i], tot_s[i], tot_b[i])"
   ],
   "id": "c5532093b13a6cea",
   "outputs": [],
   "execution_count": null
  },
  {
   "metadata": {},
   "cell_type": "code",
   "source": "d[(1300, 0)]",
   "id": "3f7d1a6199dc6156",
   "outputs": [],
   "execution_count": null
  },
  {
   "metadata": {},
   "cell_type": "code",
   "source": "x = np.random.randint(300, 1001, len(server_df))",
   "id": "5b756722b3e4f156",
   "outputs": [],
   "execution_count": null
  },
  {
   "metadata": {
    "ExecuteTime": {
     "end_time": "2025-04-18T02:27:29.467538Z",
     "start_time": "2025-04-18T02:27:29.427646Z"
    }
   },
   "cell_type": "code",
   "source": [
    "from utils import find_servers\n",
    "from tqdm import tqdm\n",
    "import numpy as np\n",
    "\n",
    "def generate_graph(user_df, server_df):\n",
    "    t_eid = server_df['eid'].values\n",
    "    t_lat = server_df['lat'].values\n",
    "    t_lon = server_df['lon'].values\n",
    "    t_radius = server_df['radius'].values\n",
    "    edges = [[False for _ in range(len(server_df))] for _ in range(len(server_df))]\n",
    "\n",
    "    # 将 user_df 转为列表形式，减少访问开销\n",
    "    user_data = user_df.groupby('uid').apply(lambda g: g.sort_values(by='timestamp')[['lat', 'lon']].values).to_dict()\n",
    "\n",
    "    for uid, rows in tqdm(user_data.items()):\n",
    "        pre = []\n",
    "        for lat, lon in rows:\n",
    "            eids = find_servers(lat, lon, t_eid, t_lat, t_lon, t_radius)\n",
    "            for i in range(len(eids)):\n",
    "                for j in range(i + 1, len(eids)):\n",
    "                    edges[eids[i]][eids[j]] = True\n",
    "                    edges[eids[j]][eids[i]] = True\n",
    "            for x in pre:\n",
    "                for y in eids:\n",
    "                    edges[x][y] = True\n",
    "                    edges[y][x] = True\n",
    "            pre = eids\n",
    "\n",
    "    edge_index = []\n",
    "    for i in range(len(server_df)):\n",
    "        for j in range(len(server_df)):\n",
    "            if edges[i][j]:\n",
    "                edge_index.append([i, j])\n",
    "\n",
    "    return np.array(edge_index).T"
   ],
   "id": "ba560ebf195fd555",
   "outputs": [
    {
     "ename": "ModuleNotFoundError",
     "evalue": "No module named 'utils'",
     "output_type": "error",
     "traceback": [
      "\u001B[0;31m---------------------------------------------------------------------------\u001B[0m",
      "\u001B[0;31mModuleNotFoundError\u001B[0m                       Traceback (most recent call last)",
      "Cell \u001B[0;32mIn[3], line 1\u001B[0m\n\u001B[0;32m----> 1\u001B[0m \u001B[38;5;28;01mfrom\u001B[39;00m \u001B[38;5;21;01mutils\u001B[39;00m \u001B[38;5;28;01mimport\u001B[39;00m find_servers\n\u001B[1;32m      2\u001B[0m \u001B[38;5;28;01mfrom\u001B[39;00m \u001B[38;5;21;01mtqdm\u001B[39;00m \u001B[38;5;28;01mimport\u001B[39;00m tqdm\n\u001B[1;32m      3\u001B[0m \u001B[38;5;28;01mimport\u001B[39;00m \u001B[38;5;21;01mnumpy\u001B[39;00m \u001B[38;5;28;01mas\u001B[39;00m \u001B[38;5;21;01mnp\u001B[39;00m\n",
      "\u001B[0;31mModuleNotFoundError\u001B[0m: No module named 'utils'"
     ]
    }
   ],
   "execution_count": 3
  },
  {
   "metadata": {},
   "cell_type": "code",
   "source": "x = generate_graph(user_df, server_df)",
   "id": "7006e9adb9178041",
   "outputs": [],
   "execution_count": null
  },
  {
   "metadata": {},
   "cell_type": "code",
   "source": "x.shape",
   "id": "a5c0f3e2728732c0",
   "outputs": [],
   "execution_count": null
  },
  {
   "metadata": {},
   "cell_type": "code",
   "source": "df = pd.DataFrame(x.T, columns=['source', 'target'])",
   "id": "c2c30a7ee27dc7e7",
   "outputs": [],
   "execution_count": null
  },
  {
   "metadata": {},
   "cell_type": "code",
   "source": "df.to_csv(get_path('edges.csv'), index=False)",
   "id": "973cf798e6affee6",
   "outputs": [],
   "execution_count": null
  },
  {
   "metadata": {
    "ExecuteTime": {
     "end_time": "2024-12-23T08:29:57.117149Z",
     "start_time": "2024-12-23T08:29:57.110102Z"
    }
   },
   "cell_type": "code",
   "source": [
    "server_c, server_s, server_b = 4, 1, 6\n",
    "rate_c,  rate_s, rate_b = 0.8715, 0.6530, 0.3948\n",
    "service_c, service_s, service_b = 6, 2, 6\n",
    "tot_c, tot_s, tot_b = 516, 462, 517"
   ],
   "id": "d009041c76c583e1",
   "outputs": [],
   "execution_count": 42
  },
  {
   "metadata": {
    "ExecuteTime": {
     "end_time": "2024-12-23T08:29:57.273569Z",
     "start_time": "2024-12-23T08:29:57.263611Z"
    }
   },
   "cell_type": "code",
   "source": [
    "e_rated = [16, 64, 128, 512, 1024, 2048]\n",
    "s_rated = [1, 8, 64, 512, 2048, 4096]\n",
    "\n",
    "up_transmission = s_rated[service_b - 1] / (service_b / tot_b * (1.0 - rate_b) * e_rated[server_b - 1] * 128)\n",
    "down_transmission = s_rated[service_b - 1] / ((1.0 - rate_b) * e_rated[server_b - 1] * 128)\n",
    "\n",
    "print(f'up_transmission: { up_transmission }')\n",
    "print(f'down_transmission: { down_transmission }')"
   ],
   "id": "f42de2978673ff85",
   "outputs": [
    {
     "name": "stdout",
     "output_type": "stream",
     "text": [
      "up_transmission: 2.2246433685833886\n",
      "down_transmission: 0.025817911434236618\n"
     ]
    }
   ],
   "execution_count": 43
  },
  {
   "metadata": {
    "ExecuteTime": {
     "end_time": "2024-12-23T08:29:57.427127Z",
     "start_time": "2024-12-23T08:29:57.414108Z"
    }
   },
   "cell_type": "code",
   "source": [
    "import math\n",
    "\n",
    "lam_c = service_c / tot_c\n",
    "mu_c = lam_c * (server_c * (1 - rate_c) + 1)\n",
    "c_queue = lam_c / (mu_c * (mu_c - lam_c))\n",
    "\n",
    "lam_s = service_s / tot_s\n",
    "mu_s = lam_s * (server_s * (1 - rate_s) + 1)\n",
    "s_queue = lam_s / (mu_s * (mu_s - lam_s))\n",
    "\n",
    "lam_b = service_b / tot_b\n",
    "mu_b = lam_b * (server_b * (1 - rate_b) + 1)\n",
    "b_queue = lam_b / (mu_b * (mu_b - lam_b))\n",
    "\n",
    "p_c = server_c * (1 - rate_c) / service_c\n",
    "p_s = server_s * (1 - rate_s) / service_s\n",
    "p_b = server_b * (1 - rate_b) / service_b\n",
    "\n",
    "c_queue *= math.exp(-p_c)\n",
    "s_queue *= math.exp(-p_s)\n",
    "b_queue *= math.exp(-p_b)\n",
    "\n",
    "print(f'c_queue: { c_queue }')\n",
    "print(f's_queue: { s_queue }')\n",
    "print(f'b_queue: { b_queue }')"
   ],
   "id": "388adb490639d103",
   "outputs": [
    {
     "name": "stdout",
     "output_type": "stream",
     "text": [
      "c_queue: 101.43898534230853\n",
      "s_queue: 415.4940574922489\n",
      "b_queue: 2.7974386183023148\n"
     ]
    }
   ],
   "execution_count": 44
  },
  {
   "metadata": {
    "ExecuteTime": {
     "end_time": "2024-12-23T08:29:57.555835Z",
     "start_time": "2024-12-23T08:29:57.551428Z"
    }
   },
   "cell_type": "code",
   "source": [
    "process_c = service_c / ((1 - rate_c) * server_c) * (1 + rate_c)\n",
    "process_s = service_s / ((1 - rate_s) * server_s) * (1 + rate_s)"
   ],
   "id": "951f74b0d0426f1e",
   "outputs": [],
   "execution_count": 45
  },
  {
   "metadata": {
    "ExecuteTime": {
     "end_time": "2024-12-23T08:29:57.704487Z",
     "start_time": "2024-12-23T08:29:57.698547Z"
    }
   },
   "cell_type": "code",
   "source": [
    "print(f'process_c: { process_c }')\n",
    "print(f'process_s: { process_s }')"
   ],
   "id": "8ec3a01d5fb8d960",
   "outputs": [
    {
     "name": "stdout",
     "output_type": "stream",
     "text": [
      "process_c: 21.846303501945535\n",
      "process_s: 9.527377521613834\n"
     ]
    }
   ],
   "execution_count": 46
  },
  {
   "metadata": {
    "ExecuteTime": {
     "end_time": "2024-12-23T08:29:57.841711Z",
     "start_time": "2024-12-23T08:29:57.835032Z"
    }
   },
   "cell_type": "code",
   "source": "up_transmission + down_transmission + c_queue + s_queue + b_queue + process_c + process_s",
   "id": "362b71e635bff23c",
   "outputs": [
    {
     "data": {
      "text/plain": [
       "553.3546237564367"
      ]
     },
     "execution_count": 47,
     "metadata": {},
     "output_type": "execute_result"
    }
   ],
   "execution_count": 47
  },
  {
   "metadata": {
    "ExecuteTime": {
     "end_time": "2024-12-23T08:29:58.027968Z",
     "start_time": "2024-12-23T08:29:58.021119Z"
    }
   },
   "cell_type": "code",
   "source": "x = np.log(2 + up_transmission) + np.log(2 + c_queue) + np.log(2 + s_queue) + np.log(b_queue) + process_c + process_s + down_transmission",
   "id": "c054ef58c35e9658",
   "outputs": [],
   "execution_count": 48
  },
  {
   "metadata": {
    "ExecuteTime": {
     "end_time": "2024-12-23T08:29:58.201977Z",
     "start_time": "2024-12-23T08:29:58.196288Z"
    }
   },
   "cell_type": "code",
   "source": "x_min, x_max = -3.894103616034186, 152.1034567987616",
   "id": "a4b3523153330a8b",
   "outputs": [],
   "execution_count": 49
  },
  {
   "metadata": {
    "ExecuteTime": {
     "end_time": "2024-12-23T08:29:58.626685Z",
     "start_time": "2024-12-23T08:29:58.619376Z"
    }
   },
   "cell_type": "code",
   "source": [
    "def normalize_to_range(values: np.ndarray, a=0, b=1) -> np.ndarray:\n",
    "    normalized_values = (values - x_min) / (x_max - x_min) * (b - a) + a\n",
    "    return normalized_values"
   ],
   "id": "347a54d9b6cebf6c",
   "outputs": [],
   "execution_count": 50
  },
  {
   "metadata": {
    "ExecuteTime": {
     "end_time": "2024-12-23T08:29:58.806419Z",
     "start_time": "2024-12-23T08:29:58.796194Z"
    }
   },
   "cell_type": "code",
   "source": [
    "from utils import haversine, update_user_position\n",
    "\n",
    "u_lat, u_lon = 31.258022, 121.337942\n",
    "e_lat, e_lon = 31.260888, 121.340352\n",
    "u_speed, u_direction = 17.3, 141\n",
    "\n",
    "req = haversine(u_lat, u_lon, e_lat, e_lon) / 3e8\n",
    "n_lat, n_lon = update_user_position(u_lat, u_lon, u_speed, u_direction, req * 1000 + (np.tanh(normalize_to_range(x, -3, 2.3)) + 1) * 10)\n",
    "rep = haversine(n_lat, n_lon, e_lat, e_lon) / 3e8\n",
    "print(f'req: { req }')\n",
    "print(f'imit: { x }')\n",
    "print(f'rep: { rep }')"
   ],
   "id": "359680a71dffa1a6",
   "outputs": [
    {
     "name": "stdout",
     "output_type": "stream",
     "text": [
      "req: 1.308246461866558e-06\n",
      "imit: 44.54239023768608\n",
      "rep: 1.3290602130017746e-06\n"
     ]
    }
   ],
   "execution_count": 51
  },
  {
   "metadata": {
    "ExecuteTime": {
     "end_time": "2024-12-23T08:29:59.354542Z",
     "start_time": "2024-12-23T08:29:59.345269Z"
    }
   },
   "cell_type": "code",
   "source": "req * 1000 + (np.tanh(normalize_to_range(x, -3, 2.3)) + 1) * 10 + rep * 1000",
   "id": "1e17c1373592f929",
   "outputs": [
    {
     "data": {
      "text/plain": [
       "1.251816460857512"
      ]
     },
     "execution_count": 52,
     "metadata": {},
     "output_type": "execute_result"
    }
   ],
   "execution_count": 52
  },
  {
   "metadata": {
    "ExecuteTime": {
     "end_time": "2025-03-31T15:27:47.501524Z",
     "start_time": "2025-03-31T15:27:46.342749Z"
    }
   },
   "cell_type": "code",
   "source": "g = inv_df.groupby(['uid', 'timestamp']).size().reset_index(name='count')",
   "id": "53ab776e83e40526",
   "outputs": [],
   "execution_count": 7
  },
  {
   "metadata": {
    "ExecuteTime": {
     "end_time": "2025-03-31T15:27:52.197343Z",
     "start_time": "2025-03-31T15:27:52.186357Z"
    }
   },
   "cell_type": "code",
   "source": "x = g[(g['uid'] == 77)]['count'].tolist()",
   "id": "ff978d6db141e608",
   "outputs": [],
   "execution_count": 8
  },
  {
   "metadata": {
    "ExecuteTime": {
     "end_time": "2024-12-27T12:25:58.088210Z",
     "start_time": "2024-12-27T12:25:58.059616Z"
    }
   },
   "cell_type": "code",
   "source": [
    "import plotly.graph_objects as go\n",
    "\n",
    "fig = go.Figure()\n",
    "\n",
    "# 添加折线\n",
    "fig.add_trace(go.Scatter(x=np.arange(0, len(x)), y=x, mode='lines', name='折线'))\n",
    "\n",
    "# 设置图表标题和标签\n",
    "fig.update_layout(\n",
    "    title='折线图示例',\n",
    "    xaxis_title='X 轴',\n",
    "    yaxis_title='Y 轴',\n",
    "    showlegend=True\n",
    ")\n",
    "\n",
    "# 显示图表\n",
    "fig.show()"
   ],
   "id": "32ca9e65c1808661",
   "outputs": [
    {
     "data": {
      "application/vnd.plotly.v1+json": {
       "data": [
        {
         "mode": "lines",
         "name": "折线",
         "x": [
          0,
          1,
          2,
          3,
          4,
          5,
          6,
          7,
          8,
          9,
          10,
          11,
          12,
          13,
          14,
          15,
          16,
          17,
          18,
          19,
          20,
          21,
          22,
          23,
          24,
          25,
          26,
          27,
          28,
          29,
          30,
          31,
          32,
          33,
          34,
          35,
          36,
          37,
          38,
          39,
          40,
          41,
          42,
          43,
          44,
          45,
          46,
          47,
          48,
          49,
          50,
          51,
          52,
          53,
          54,
          55,
          56,
          57,
          58,
          59,
          60,
          61,
          62,
          63,
          64,
          65,
          66,
          67,
          68,
          69,
          70,
          71,
          72,
          73,
          74,
          75,
          76,
          77,
          78,
          79,
          80,
          81,
          82,
          83,
          84,
          85,
          86,
          87,
          88,
          89,
          90,
          91,
          92,
          93,
          94,
          95,
          96,
          97,
          98,
          99,
          100,
          101,
          102,
          103,
          104,
          105,
          106,
          107,
          108,
          109,
          110,
          111,
          112,
          113,
          114,
          115,
          116,
          117,
          118,
          119,
          120,
          121,
          122,
          123,
          124,
          125,
          126,
          127,
          128,
          129,
          130,
          131,
          132,
          133,
          134,
          135,
          136,
          137,
          138,
          139,
          140,
          141,
          142,
          143,
          144,
          145,
          146,
          147,
          148,
          149,
          150,
          151,
          152,
          153,
          154,
          155,
          156,
          157,
          158,
          159,
          160,
          161,
          162,
          163,
          164,
          165,
          166,
          167,
          168,
          169,
          170,
          171,
          172,
          173,
          174,
          175,
          176,
          177,
          178,
          179,
          180,
          181,
          182,
          183,
          184,
          185,
          186,
          187,
          188,
          189,
          190,
          191,
          192,
          193,
          194,
          195,
          196,
          197,
          198,
          199,
          200,
          201,
          202,
          203,
          204,
          205,
          206,
          207,
          208,
          209,
          210,
          211,
          212,
          213,
          214,
          215,
          216,
          217,
          218,
          219,
          220,
          221,
          222,
          223,
          224,
          225,
          226,
          227,
          228,
          229,
          230,
          231,
          232,
          233,
          234,
          235,
          236,
          237,
          238,
          239,
          240,
          241,
          242,
          243,
          244,
          245,
          246,
          247,
          248,
          249,
          250,
          251,
          252,
          253,
          254,
          255,
          256,
          257,
          258,
          259,
          260,
          261,
          262,
          263,
          264,
          265,
          266,
          267,
          268,
          269,
          270,
          271,
          272,
          273,
          274,
          275,
          276,
          277,
          278,
          279,
          280,
          281,
          282,
          283,
          284,
          285,
          286,
          287,
          288,
          289,
          290,
          291,
          292,
          293,
          294,
          295,
          296,
          297,
          298,
          299,
          300,
          301,
          302,
          303,
          304,
          305,
          306,
          307,
          308,
          309,
          310,
          311,
          312,
          313,
          314,
          315,
          316,
          317,
          318,
          319,
          320,
          321,
          322,
          323,
          324,
          325,
          326,
          327,
          328,
          329,
          330,
          331,
          332,
          333,
          334,
          335,
          336,
          337,
          338,
          339,
          340,
          341,
          342,
          343,
          344,
          345,
          346,
          347,
          348,
          349,
          350,
          351,
          352,
          353,
          354,
          355,
          356,
          357,
          358,
          359,
          360,
          361,
          362,
          363,
          364,
          365,
          366,
          367,
          368,
          369,
          370,
          371,
          372,
          373,
          374,
          375,
          376,
          377,
          378,
          379,
          380,
          381,
          382,
          383,
          384,
          385,
          386,
          387,
          388,
          389,
          390,
          391,
          392,
          393,
          394,
          395,
          396,
          397,
          398,
          399,
          400,
          401,
          402,
          403,
          404,
          405,
          406,
          407,
          408,
          409,
          410,
          411,
          412,
          413,
          414,
          415,
          416,
          417,
          418,
          419,
          420,
          421,
          422,
          423,
          424,
          425,
          426,
          427,
          428,
          429,
          430,
          431,
          432,
          433,
          434,
          435,
          436,
          437,
          438,
          439,
          440,
          441,
          442,
          443,
          444,
          445,
          446,
          447,
          448,
          449,
          450,
          451,
          452,
          453,
          454,
          455,
          456,
          457,
          458,
          459,
          460,
          461,
          462,
          463,
          464,
          465,
          466,
          467,
          468,
          469,
          470,
          471,
          472,
          473,
          474,
          475,
          476,
          477,
          478,
          479,
          480,
          481,
          482,
          483,
          484,
          485,
          486,
          487,
          488,
          489,
          490,
          491,
          492,
          493,
          494,
          495,
          496,
          497,
          498,
          499,
          500,
          501,
          502,
          503,
          504,
          505,
          506,
          507,
          508,
          509,
          510,
          511,
          512,
          513,
          514,
          515,
          516,
          517,
          518,
          519,
          520,
          521,
          522,
          523,
          524,
          525,
          526,
          527,
          528,
          529,
          530,
          531,
          532,
          533,
          534,
          535,
          536,
          537,
          538,
          539,
          540,
          541,
          542,
          543,
          544,
          545,
          546,
          547,
          548,
          549,
          550,
          551,
          552,
          553,
          554,
          555,
          556,
          557,
          558,
          559,
          560,
          561,
          562,
          563,
          564,
          565,
          566,
          567,
          568,
          569,
          570,
          571,
          572,
          573,
          574,
          575,
          576,
          577,
          578,
          579,
          580,
          581,
          582,
          583,
          584,
          585,
          586,
          587,
          588,
          589,
          590,
          591,
          592,
          593,
          594,
          595,
          596,
          597,
          598,
          599,
          600,
          601,
          602,
          603,
          604,
          605,
          606,
          607,
          608,
          609,
          610,
          611,
          612,
          613,
          614,
          615,
          616,
          617,
          618,
          619,
          620,
          621,
          622,
          623,
          624,
          625,
          626,
          627,
          628,
          629,
          630,
          631,
          632,
          633,
          634,
          635,
          636,
          637,
          638,
          639,
          640,
          641,
          642,
          643,
          644,
          645,
          646,
          647,
          648,
          649,
          650,
          651,
          652,
          653,
          654,
          655,
          656,
          657,
          658,
          659,
          660,
          661,
          662,
          663,
          664,
          665,
          666,
          667,
          668,
          669,
          670,
          671,
          672,
          673,
          674,
          675,
          676,
          677,
          678,
          679,
          680,
          681,
          682,
          683,
          684,
          685,
          686,
          687,
          688,
          689,
          690,
          691,
          692,
          693,
          694,
          695,
          696,
          697,
          698,
          699,
          700,
          701,
          702,
          703,
          704,
          705,
          706,
          707,
          708,
          709,
          710,
          711,
          712,
          713,
          714,
          715,
          716,
          717,
          718,
          719
         ],
         "y": [
          41,
          41,
          38,
          39,
          40,
          43,
          40,
          39,
          41,
          43,
          42,
          41,
          42,
          42,
          40,
          40,
          43,
          44,
          42,
          45,
          42,
          43,
          43,
          41,
          43,
          42,
          42,
          39,
          39,
          39,
          39,
          39,
          38,
          38,
          37,
          36,
          34,
          31,
          36,
          35,
          37,
          34,
          33,
          30,
          31,
          30,
          30,
          30,
          28,
          26,
          28,
          28,
          27,
          25,
          29,
          28,
          29,
          24,
          25,
          28,
          25,
          20,
          26,
          22,
          23,
          23,
          24,
          25,
          19,
          24,
          24,
          25,
          25,
          28,
          26,
          27,
          22,
          25,
          28,
          28,
          28,
          28,
          27,
          33,
          31,
          32,
          33,
          30,
          38,
          34,
          38,
          35,
          36,
          40,
          39,
          44,
          42,
          42,
          40,
          45,
          45,
          48,
          45,
          46,
          48,
          48,
          47,
          48,
          50,
          54,
          49,
          53,
          53,
          52,
          54,
          51,
          51,
          52,
          55,
          55,
          49,
          50,
          52,
          50,
          51,
          48,
          50,
          48,
          46,
          49,
          48,
          44,
          48,
          46,
          50,
          45,
          47,
          47,
          48,
          45,
          44,
          46,
          43,
          41,
          42,
          42,
          40,
          40,
          38,
          36,
          36,
          38,
          36,
          35,
          30,
          30,
          30,
          30,
          30,
          30,
          29,
          28,
          30,
          25,
          27,
          26,
          29,
          25,
          26,
          28,
          25,
          28,
          31,
          27,
          32,
          37,
          34,
          34,
          39,
          40,
          40,
          41,
          40,
          43,
          43,
          41,
          48,
          44,
          47,
          48,
          47,
          48,
          48,
          45,
          48,
          46,
          43,
          40,
          42,
          44,
          42,
          44,
          45,
          40,
          41,
          37,
          34,
          32,
          33,
          31,
          30,
          28,
          27,
          26,
          23,
          24,
          21,
          24,
          23,
          22,
          23,
          21,
          17,
          18,
          18,
          16,
          19,
          21,
          18,
          21,
          18,
          20,
          21,
          21,
          20,
          20,
          22,
          21,
          21,
          25,
          27,
          23,
          23,
          23,
          25,
          24,
          25,
          26,
          27,
          30,
          29,
          27,
          28,
          30,
          32,
          31,
          32,
          30,
          31,
          30,
          30,
          30,
          30,
          34,
          30,
          36,
          32,
          33,
          31,
          33,
          36,
          36,
          35,
          31,
          36,
          35,
          31,
          32,
          36,
          32,
          36,
          30,
          32,
          31,
          34,
          33,
          31,
          31,
          38,
          32,
          31,
          30,
          28,
          33,
          29,
          27,
          30,
          24,
          27,
          29,
          22,
          25,
          26,
          27,
          22,
          26,
          24,
          22,
          23,
          22,
          24,
          21,
          21,
          20,
          22,
          22,
          20,
          19,
          24,
          24,
          25,
          25,
          26,
          28,
          28,
          30,
          30,
          30,
          29,
          32,
          34,
          34,
          34,
          34,
          31,
          30,
          35,
          38,
          38,
          39,
          39,
          45,
          45,
          47,
          47,
          47,
          48,
          52,
          48,
          54,
          48,
          55,
          54,
          56,
          57,
          57,
          57,
          54,
          57,
          56,
          53,
          54,
          57,
          60,
          56,
          55,
          55,
          54,
          52,
          54,
          52,
          48,
          48,
          46,
          47,
          48,
          48,
          45,
          43,
          47,
          42,
          43,
          43,
          40,
          39,
          39,
          41,
          39,
          39,
          38,
          33,
          36,
          35,
          31,
          32,
          30,
          32,
          33,
          25,
          30,
          28,
          27,
          30,
          29,
          28,
          27,
          30,
          26,
          23,
          25,
          23,
          21,
          25,
          24,
          24,
          20,
          22,
          19,
          21,
          21,
          21,
          21,
          18,
          21,
          21,
          23,
          24,
          27,
          25,
          25,
          27,
          28,
          26,
          25,
          35,
          28,
          33,
          34,
          34,
          32,
          34,
          35,
          36,
          39,
          39,
          39,
          40,
          39,
          39,
          41,
          41,
          42,
          40,
          39,
          38,
          39,
          38,
          39,
          39,
          38,
          41,
          39,
          38,
          34,
          36,
          37,
          31,
          31,
          30,
          31,
          34,
          26,
          31,
          33,
          27,
          32,
          31,
          29,
          32,
          32,
          38,
          39,
          39,
          40,
          44,
          55,
          52,
          53,
          58,
          61,
          61,
          62,
          64,
          66,
          65,
          68,
          67,
          69,
          65,
          66,
          68,
          67,
          67,
          66,
          65,
          66,
          66,
          64,
          64,
          63,
          60,
          64,
          59,
          63,
          59,
          57,
          58,
          59,
          52,
          48,
          49,
          48,
          49,
          48,
          46,
          47,
          48,
          48,
          50,
          46,
          46,
          49,
          46,
          48,
          49,
          48,
          47,
          48,
          49,
          50,
          51,
          51,
          52,
          56,
          52,
          57,
          57,
          55,
          57,
          57,
          56,
          57,
          57,
          57,
          59,
          59,
          56,
          56,
          58,
          56,
          55,
          55,
          50,
          53,
          53,
          58,
          50,
          52,
          51,
          51,
          49,
          48,
          45,
          45,
          45,
          45,
          45,
          43,
          41,
          41,
          38,
          31,
          32,
          33,
          34,
          27,
          27,
          25,
          19,
          18,
          18,
          15,
          11,
          15,
          11,
          11,
          13,
          15,
          9,
          16,
          13,
          16,
          17,
          17,
          18,
          21,
          20,
          21,
          21,
          26,
          27,
          28,
          30,
          26,
          28,
          30,
          30,
          31,
          39,
          37,
          43,
          40,
          40,
          44,
          42,
          39,
          42,
          44,
          41,
          43,
          41,
          42,
          41,
          43,
          41,
          39,
          39,
          35,
          34,
          35,
          30,
          30,
          33,
          30,
          30,
          29,
          26,
          25,
          21,
          21,
          20,
          17,
          15,
          16,
          14,
          14,
          14,
          13,
          14,
          13,
          10,
          13,
          10,
          9,
          7,
          6,
          8,
          11,
          10,
          11,
          11,
          11,
          12,
          11,
          14,
          16,
          12,
          18,
          17,
          14,
          17,
          18,
          15,
          19,
          21,
          19,
          21,
          17,
          19,
          21,
          18,
          21,
          20,
          16,
          15,
          17,
          16,
          12,
          12,
          12,
          11,
          12,
          10,
          9,
          4,
          10,
          11,
          4,
          8,
          7,
          7,
          4,
          4,
          5,
          6,
          7,
          6,
          3,
          11,
          6
         ],
         "type": "scatter"
        }
       ],
       "layout": {
        "template": {
         "data": {
          "histogram2dcontour": [
           {
            "type": "histogram2dcontour",
            "colorbar": {
             "outlinewidth": 0,
             "ticks": ""
            },
            "colorscale": [
             [
              0.0,
              "#0d0887"
             ],
             [
              0.1111111111111111,
              "#46039f"
             ],
             [
              0.2222222222222222,
              "#7201a8"
             ],
             [
              0.3333333333333333,
              "#9c179e"
             ],
             [
              0.4444444444444444,
              "#bd3786"
             ],
             [
              0.5555555555555556,
              "#d8576b"
             ],
             [
              0.6666666666666666,
              "#ed7953"
             ],
             [
              0.7777777777777778,
              "#fb9f3a"
             ],
             [
              0.8888888888888888,
              "#fdca26"
             ],
             [
              1.0,
              "#f0f921"
             ]
            ]
           }
          ],
          "choropleth": [
           {
            "type": "choropleth",
            "colorbar": {
             "outlinewidth": 0,
             "ticks": ""
            }
           }
          ],
          "histogram2d": [
           {
            "type": "histogram2d",
            "colorbar": {
             "outlinewidth": 0,
             "ticks": ""
            },
            "colorscale": [
             [
              0.0,
              "#0d0887"
             ],
             [
              0.1111111111111111,
              "#46039f"
             ],
             [
              0.2222222222222222,
              "#7201a8"
             ],
             [
              0.3333333333333333,
              "#9c179e"
             ],
             [
              0.4444444444444444,
              "#bd3786"
             ],
             [
              0.5555555555555556,
              "#d8576b"
             ],
             [
              0.6666666666666666,
              "#ed7953"
             ],
             [
              0.7777777777777778,
              "#fb9f3a"
             ],
             [
              0.8888888888888888,
              "#fdca26"
             ],
             [
              1.0,
              "#f0f921"
             ]
            ]
           }
          ],
          "heatmap": [
           {
            "type": "heatmap",
            "colorbar": {
             "outlinewidth": 0,
             "ticks": ""
            },
            "colorscale": [
             [
              0.0,
              "#0d0887"
             ],
             [
              0.1111111111111111,
              "#46039f"
             ],
             [
              0.2222222222222222,
              "#7201a8"
             ],
             [
              0.3333333333333333,
              "#9c179e"
             ],
             [
              0.4444444444444444,
              "#bd3786"
             ],
             [
              0.5555555555555556,
              "#d8576b"
             ],
             [
              0.6666666666666666,
              "#ed7953"
             ],
             [
              0.7777777777777778,
              "#fb9f3a"
             ],
             [
              0.8888888888888888,
              "#fdca26"
             ],
             [
              1.0,
              "#f0f921"
             ]
            ]
           }
          ],
          "heatmapgl": [
           {
            "type": "heatmapgl",
            "colorbar": {
             "outlinewidth": 0,
             "ticks": ""
            },
            "colorscale": [
             [
              0.0,
              "#0d0887"
             ],
             [
              0.1111111111111111,
              "#46039f"
             ],
             [
              0.2222222222222222,
              "#7201a8"
             ],
             [
              0.3333333333333333,
              "#9c179e"
             ],
             [
              0.4444444444444444,
              "#bd3786"
             ],
             [
              0.5555555555555556,
              "#d8576b"
             ],
             [
              0.6666666666666666,
              "#ed7953"
             ],
             [
              0.7777777777777778,
              "#fb9f3a"
             ],
             [
              0.8888888888888888,
              "#fdca26"
             ],
             [
              1.0,
              "#f0f921"
             ]
            ]
           }
          ],
          "contourcarpet": [
           {
            "type": "contourcarpet",
            "colorbar": {
             "outlinewidth": 0,
             "ticks": ""
            }
           }
          ],
          "contour": [
           {
            "type": "contour",
            "colorbar": {
             "outlinewidth": 0,
             "ticks": ""
            },
            "colorscale": [
             [
              0.0,
              "#0d0887"
             ],
             [
              0.1111111111111111,
              "#46039f"
             ],
             [
              0.2222222222222222,
              "#7201a8"
             ],
             [
              0.3333333333333333,
              "#9c179e"
             ],
             [
              0.4444444444444444,
              "#bd3786"
             ],
             [
              0.5555555555555556,
              "#d8576b"
             ],
             [
              0.6666666666666666,
              "#ed7953"
             ],
             [
              0.7777777777777778,
              "#fb9f3a"
             ],
             [
              0.8888888888888888,
              "#fdca26"
             ],
             [
              1.0,
              "#f0f921"
             ]
            ]
           }
          ],
          "surface": [
           {
            "type": "surface",
            "colorbar": {
             "outlinewidth": 0,
             "ticks": ""
            },
            "colorscale": [
             [
              0.0,
              "#0d0887"
             ],
             [
              0.1111111111111111,
              "#46039f"
             ],
             [
              0.2222222222222222,
              "#7201a8"
             ],
             [
              0.3333333333333333,
              "#9c179e"
             ],
             [
              0.4444444444444444,
              "#bd3786"
             ],
             [
              0.5555555555555556,
              "#d8576b"
             ],
             [
              0.6666666666666666,
              "#ed7953"
             ],
             [
              0.7777777777777778,
              "#fb9f3a"
             ],
             [
              0.8888888888888888,
              "#fdca26"
             ],
             [
              1.0,
              "#f0f921"
             ]
            ]
           }
          ],
          "mesh3d": [
           {
            "type": "mesh3d",
            "colorbar": {
             "outlinewidth": 0,
             "ticks": ""
            }
           }
          ],
          "scatter": [
           {
            "fillpattern": {
             "fillmode": "overlay",
             "size": 10,
             "solidity": 0.2
            },
            "type": "scatter"
           }
          ],
          "parcoords": [
           {
            "type": "parcoords",
            "line": {
             "colorbar": {
              "outlinewidth": 0,
              "ticks": ""
             }
            }
           }
          ],
          "scatterpolargl": [
           {
            "type": "scatterpolargl",
            "marker": {
             "colorbar": {
              "outlinewidth": 0,
              "ticks": ""
             }
            }
           }
          ],
          "bar": [
           {
            "error_x": {
             "color": "#2a3f5f"
            },
            "error_y": {
             "color": "#2a3f5f"
            },
            "marker": {
             "line": {
              "color": "#E5ECF6",
              "width": 0.5
             },
             "pattern": {
              "fillmode": "overlay",
              "size": 10,
              "solidity": 0.2
             }
            },
            "type": "bar"
           }
          ],
          "scattergeo": [
           {
            "type": "scattergeo",
            "marker": {
             "colorbar": {
              "outlinewidth": 0,
              "ticks": ""
             }
            }
           }
          ],
          "scatterpolar": [
           {
            "type": "scatterpolar",
            "marker": {
             "colorbar": {
              "outlinewidth": 0,
              "ticks": ""
             }
            }
           }
          ],
          "histogram": [
           {
            "marker": {
             "pattern": {
              "fillmode": "overlay",
              "size": 10,
              "solidity": 0.2
             }
            },
            "type": "histogram"
           }
          ],
          "scattergl": [
           {
            "type": "scattergl",
            "marker": {
             "colorbar": {
              "outlinewidth": 0,
              "ticks": ""
             }
            }
           }
          ],
          "scatter3d": [
           {
            "type": "scatter3d",
            "line": {
             "colorbar": {
              "outlinewidth": 0,
              "ticks": ""
             }
            },
            "marker": {
             "colorbar": {
              "outlinewidth": 0,
              "ticks": ""
             }
            }
           }
          ],
          "scattermapbox": [
           {
            "type": "scattermapbox",
            "marker": {
             "colorbar": {
              "outlinewidth": 0,
              "ticks": ""
             }
            }
           }
          ],
          "scatterternary": [
           {
            "type": "scatterternary",
            "marker": {
             "colorbar": {
              "outlinewidth": 0,
              "ticks": ""
             }
            }
           }
          ],
          "scattercarpet": [
           {
            "type": "scattercarpet",
            "marker": {
             "colorbar": {
              "outlinewidth": 0,
              "ticks": ""
             }
            }
           }
          ],
          "carpet": [
           {
            "aaxis": {
             "endlinecolor": "#2a3f5f",
             "gridcolor": "white",
             "linecolor": "white",
             "minorgridcolor": "white",
             "startlinecolor": "#2a3f5f"
            },
            "baxis": {
             "endlinecolor": "#2a3f5f",
             "gridcolor": "white",
             "linecolor": "white",
             "minorgridcolor": "white",
             "startlinecolor": "#2a3f5f"
            },
            "type": "carpet"
           }
          ],
          "table": [
           {
            "cells": {
             "fill": {
              "color": "#EBF0F8"
             },
             "line": {
              "color": "white"
             }
            },
            "header": {
             "fill": {
              "color": "#C8D4E3"
             },
             "line": {
              "color": "white"
             }
            },
            "type": "table"
           }
          ],
          "barpolar": [
           {
            "marker": {
             "line": {
              "color": "#E5ECF6",
              "width": 0.5
             },
             "pattern": {
              "fillmode": "overlay",
              "size": 10,
              "solidity": 0.2
             }
            },
            "type": "barpolar"
           }
          ],
          "pie": [
           {
            "automargin": true,
            "type": "pie"
           }
          ]
         },
         "layout": {
          "autotypenumbers": "strict",
          "colorway": [
           "#636efa",
           "#EF553B",
           "#00cc96",
           "#ab63fa",
           "#FFA15A",
           "#19d3f3",
           "#FF6692",
           "#B6E880",
           "#FF97FF",
           "#FECB52"
          ],
          "font": {
           "color": "#2a3f5f"
          },
          "hovermode": "closest",
          "hoverlabel": {
           "align": "left"
          },
          "paper_bgcolor": "white",
          "plot_bgcolor": "#E5ECF6",
          "polar": {
           "bgcolor": "#E5ECF6",
           "angularaxis": {
            "gridcolor": "white",
            "linecolor": "white",
            "ticks": ""
           },
           "radialaxis": {
            "gridcolor": "white",
            "linecolor": "white",
            "ticks": ""
           }
          },
          "ternary": {
           "bgcolor": "#E5ECF6",
           "aaxis": {
            "gridcolor": "white",
            "linecolor": "white",
            "ticks": ""
           },
           "baxis": {
            "gridcolor": "white",
            "linecolor": "white",
            "ticks": ""
           },
           "caxis": {
            "gridcolor": "white",
            "linecolor": "white",
            "ticks": ""
           }
          },
          "coloraxis": {
           "colorbar": {
            "outlinewidth": 0,
            "ticks": ""
           }
          },
          "colorscale": {
           "sequential": [
            [
             0.0,
             "#0d0887"
            ],
            [
             0.1111111111111111,
             "#46039f"
            ],
            [
             0.2222222222222222,
             "#7201a8"
            ],
            [
             0.3333333333333333,
             "#9c179e"
            ],
            [
             0.4444444444444444,
             "#bd3786"
            ],
            [
             0.5555555555555556,
             "#d8576b"
            ],
            [
             0.6666666666666666,
             "#ed7953"
            ],
            [
             0.7777777777777778,
             "#fb9f3a"
            ],
            [
             0.8888888888888888,
             "#fdca26"
            ],
            [
             1.0,
             "#f0f921"
            ]
           ],
           "sequentialminus": [
            [
             0.0,
             "#0d0887"
            ],
            [
             0.1111111111111111,
             "#46039f"
            ],
            [
             0.2222222222222222,
             "#7201a8"
            ],
            [
             0.3333333333333333,
             "#9c179e"
            ],
            [
             0.4444444444444444,
             "#bd3786"
            ],
            [
             0.5555555555555556,
             "#d8576b"
            ],
            [
             0.6666666666666666,
             "#ed7953"
            ],
            [
             0.7777777777777778,
             "#fb9f3a"
            ],
            [
             0.8888888888888888,
             "#fdca26"
            ],
            [
             1.0,
             "#f0f921"
            ]
           ],
           "diverging": [
            [
             0,
             "#8e0152"
            ],
            [
             0.1,
             "#c51b7d"
            ],
            [
             0.2,
             "#de77ae"
            ],
            [
             0.3,
             "#f1b6da"
            ],
            [
             0.4,
             "#fde0ef"
            ],
            [
             0.5,
             "#f7f7f7"
            ],
            [
             0.6,
             "#e6f5d0"
            ],
            [
             0.7,
             "#b8e186"
            ],
            [
             0.8,
             "#7fbc41"
            ],
            [
             0.9,
             "#4d9221"
            ],
            [
             1,
             "#276419"
            ]
           ]
          },
          "xaxis": {
           "gridcolor": "white",
           "linecolor": "white",
           "ticks": "",
           "title": {
            "standoff": 15
           },
           "zerolinecolor": "white",
           "automargin": true,
           "zerolinewidth": 2
          },
          "yaxis": {
           "gridcolor": "white",
           "linecolor": "white",
           "ticks": "",
           "title": {
            "standoff": 15
           },
           "zerolinecolor": "white",
           "automargin": true,
           "zerolinewidth": 2
          },
          "scene": {
           "xaxis": {
            "backgroundcolor": "#E5ECF6",
            "gridcolor": "white",
            "linecolor": "white",
            "showbackground": true,
            "ticks": "",
            "zerolinecolor": "white",
            "gridwidth": 2
           },
           "yaxis": {
            "backgroundcolor": "#E5ECF6",
            "gridcolor": "white",
            "linecolor": "white",
            "showbackground": true,
            "ticks": "",
            "zerolinecolor": "white",
            "gridwidth": 2
           },
           "zaxis": {
            "backgroundcolor": "#E5ECF6",
            "gridcolor": "white",
            "linecolor": "white",
            "showbackground": true,
            "ticks": "",
            "zerolinecolor": "white",
            "gridwidth": 2
           }
          },
          "shapedefaults": {
           "line": {
            "color": "#2a3f5f"
           }
          },
          "annotationdefaults": {
           "arrowcolor": "#2a3f5f",
           "arrowhead": 0,
           "arrowwidth": 1
          },
          "geo": {
           "bgcolor": "white",
           "landcolor": "#E5ECF6",
           "subunitcolor": "white",
           "showland": true,
           "showlakes": true,
           "lakecolor": "white"
          },
          "title": {
           "x": 0.05
          },
          "mapbox": {
           "style": "light"
          }
         }
        },
        "title": {
         "text": "折线图示例"
        },
        "xaxis": {
         "title": {
          "text": "X 轴"
         }
        },
        "yaxis": {
         "title": {
          "text": "Y 轴"
         }
        },
        "showlegend": true
       },
       "config": {
        "plotlyServerURL": "https://plot.ly"
       }
      },
      "text/html": [
       "<div>                            <div id=\"4d279c8d-d495-4490-b722-bc7b598e582b\" class=\"plotly-graph-div\" style=\"height:525px; width:100%;\"></div>            <script type=\"text/javascript\">                require([\"plotly\"], function(Plotly) {                    window.PLOTLYENV=window.PLOTLYENV || {};                                    if (document.getElementById(\"4d279c8d-d495-4490-b722-bc7b598e582b\")) {                    Plotly.newPlot(                        \"4d279c8d-d495-4490-b722-bc7b598e582b\",                        [{\"mode\":\"lines\",\"name\":\"\\u6298\\u7ebf\",\"x\":[0,1,2,3,4,5,6,7,8,9,10,11,12,13,14,15,16,17,18,19,20,21,22,23,24,25,26,27,28,29,30,31,32,33,34,35,36,37,38,39,40,41,42,43,44,45,46,47,48,49,50,51,52,53,54,55,56,57,58,59,60,61,62,63,64,65,66,67,68,69,70,71,72,73,74,75,76,77,78,79,80,81,82,83,84,85,86,87,88,89,90,91,92,93,94,95,96,97,98,99,100,101,102,103,104,105,106,107,108,109,110,111,112,113,114,115,116,117,118,119,120,121,122,123,124,125,126,127,128,129,130,131,132,133,134,135,136,137,138,139,140,141,142,143,144,145,146,147,148,149,150,151,152,153,154,155,156,157,158,159,160,161,162,163,164,165,166,167,168,169,170,171,172,173,174,175,176,177,178,179,180,181,182,183,184,185,186,187,188,189,190,191,192,193,194,195,196,197,198,199,200,201,202,203,204,205,206,207,208,209,210,211,212,213,214,215,216,217,218,219,220,221,222,223,224,225,226,227,228,229,230,231,232,233,234,235,236,237,238,239,240,241,242,243,244,245,246,247,248,249,250,251,252,253,254,255,256,257,258,259,260,261,262,263,264,265,266,267,268,269,270,271,272,273,274,275,276,277,278,279,280,281,282,283,284,285,286,287,288,289,290,291,292,293,294,295,296,297,298,299,300,301,302,303,304,305,306,307,308,309,310,311,312,313,314,315,316,317,318,319,320,321,322,323,324,325,326,327,328,329,330,331,332,333,334,335,336,337,338,339,340,341,342,343,344,345,346,347,348,349,350,351,352,353,354,355,356,357,358,359,360,361,362,363,364,365,366,367,368,369,370,371,372,373,374,375,376,377,378,379,380,381,382,383,384,385,386,387,388,389,390,391,392,393,394,395,396,397,398,399,400,401,402,403,404,405,406,407,408,409,410,411,412,413,414,415,416,417,418,419,420,421,422,423,424,425,426,427,428,429,430,431,432,433,434,435,436,437,438,439,440,441,442,443,444,445,446,447,448,449,450,451,452,453,454,455,456,457,458,459,460,461,462,463,464,465,466,467,468,469,470,471,472,473,474,475,476,477,478,479,480,481,482,483,484,485,486,487,488,489,490,491,492,493,494,495,496,497,498,499,500,501,502,503,504,505,506,507,508,509,510,511,512,513,514,515,516,517,518,519,520,521,522,523,524,525,526,527,528,529,530,531,532,533,534,535,536,537,538,539,540,541,542,543,544,545,546,547,548,549,550,551,552,553,554,555,556,557,558,559,560,561,562,563,564,565,566,567,568,569,570,571,572,573,574,575,576,577,578,579,580,581,582,583,584,585,586,587,588,589,590,591,592,593,594,595,596,597,598,599,600,601,602,603,604,605,606,607,608,609,610,611,612,613,614,615,616,617,618,619,620,621,622,623,624,625,626,627,628,629,630,631,632,633,634,635,636,637,638,639,640,641,642,643,644,645,646,647,648,649,650,651,652,653,654,655,656,657,658,659,660,661,662,663,664,665,666,667,668,669,670,671,672,673,674,675,676,677,678,679,680,681,682,683,684,685,686,687,688,689,690,691,692,693,694,695,696,697,698,699,700,701,702,703,704,705,706,707,708,709,710,711,712,713,714,715,716,717,718,719],\"y\":[41,41,38,39,40,43,40,39,41,43,42,41,42,42,40,40,43,44,42,45,42,43,43,41,43,42,42,39,39,39,39,39,38,38,37,36,34,31,36,35,37,34,33,30,31,30,30,30,28,26,28,28,27,25,29,28,29,24,25,28,25,20,26,22,23,23,24,25,19,24,24,25,25,28,26,27,22,25,28,28,28,28,27,33,31,32,33,30,38,34,38,35,36,40,39,44,42,42,40,45,45,48,45,46,48,48,47,48,50,54,49,53,53,52,54,51,51,52,55,55,49,50,52,50,51,48,50,48,46,49,48,44,48,46,50,45,47,47,48,45,44,46,43,41,42,42,40,40,38,36,36,38,36,35,30,30,30,30,30,30,29,28,30,25,27,26,29,25,26,28,25,28,31,27,32,37,34,34,39,40,40,41,40,43,43,41,48,44,47,48,47,48,48,45,48,46,43,40,42,44,42,44,45,40,41,37,34,32,33,31,30,28,27,26,23,24,21,24,23,22,23,21,17,18,18,16,19,21,18,21,18,20,21,21,20,20,22,21,21,25,27,23,23,23,25,24,25,26,27,30,29,27,28,30,32,31,32,30,31,30,30,30,30,34,30,36,32,33,31,33,36,36,35,31,36,35,31,32,36,32,36,30,32,31,34,33,31,31,38,32,31,30,28,33,29,27,30,24,27,29,22,25,26,27,22,26,24,22,23,22,24,21,21,20,22,22,20,19,24,24,25,25,26,28,28,30,30,30,29,32,34,34,34,34,31,30,35,38,38,39,39,45,45,47,47,47,48,52,48,54,48,55,54,56,57,57,57,54,57,56,53,54,57,60,56,55,55,54,52,54,52,48,48,46,47,48,48,45,43,47,42,43,43,40,39,39,41,39,39,38,33,36,35,31,32,30,32,33,25,30,28,27,30,29,28,27,30,26,23,25,23,21,25,24,24,20,22,19,21,21,21,21,18,21,21,23,24,27,25,25,27,28,26,25,35,28,33,34,34,32,34,35,36,39,39,39,40,39,39,41,41,42,40,39,38,39,38,39,39,38,41,39,38,34,36,37,31,31,30,31,34,26,31,33,27,32,31,29,32,32,38,39,39,40,44,55,52,53,58,61,61,62,64,66,65,68,67,69,65,66,68,67,67,66,65,66,66,64,64,63,60,64,59,63,59,57,58,59,52,48,49,48,49,48,46,47,48,48,50,46,46,49,46,48,49,48,47,48,49,50,51,51,52,56,52,57,57,55,57,57,56,57,57,57,59,59,56,56,58,56,55,55,50,53,53,58,50,52,51,51,49,48,45,45,45,45,45,43,41,41,38,31,32,33,34,27,27,25,19,18,18,15,11,15,11,11,13,15,9,16,13,16,17,17,18,21,20,21,21,26,27,28,30,26,28,30,30,31,39,37,43,40,40,44,42,39,42,44,41,43,41,42,41,43,41,39,39,35,34,35,30,30,33,30,30,29,26,25,21,21,20,17,15,16,14,14,14,13,14,13,10,13,10,9,7,6,8,11,10,11,11,11,12,11,14,16,12,18,17,14,17,18,15,19,21,19,21,17,19,21,18,21,20,16,15,17,16,12,12,12,11,12,10,9,4,10,11,4,8,7,7,4,4,5,6,7,6,3,11,6],\"type\":\"scatter\"}],                        {\"template\":{\"data\":{\"histogram2dcontour\":[{\"type\":\"histogram2dcontour\",\"colorbar\":{\"outlinewidth\":0,\"ticks\":\"\"},\"colorscale\":[[0.0,\"#0d0887\"],[0.1111111111111111,\"#46039f\"],[0.2222222222222222,\"#7201a8\"],[0.3333333333333333,\"#9c179e\"],[0.4444444444444444,\"#bd3786\"],[0.5555555555555556,\"#d8576b\"],[0.6666666666666666,\"#ed7953\"],[0.7777777777777778,\"#fb9f3a\"],[0.8888888888888888,\"#fdca26\"],[1.0,\"#f0f921\"]]}],\"choropleth\":[{\"type\":\"choropleth\",\"colorbar\":{\"outlinewidth\":0,\"ticks\":\"\"}}],\"histogram2d\":[{\"type\":\"histogram2d\",\"colorbar\":{\"outlinewidth\":0,\"ticks\":\"\"},\"colorscale\":[[0.0,\"#0d0887\"],[0.1111111111111111,\"#46039f\"],[0.2222222222222222,\"#7201a8\"],[0.3333333333333333,\"#9c179e\"],[0.4444444444444444,\"#bd3786\"],[0.5555555555555556,\"#d8576b\"],[0.6666666666666666,\"#ed7953\"],[0.7777777777777778,\"#fb9f3a\"],[0.8888888888888888,\"#fdca26\"],[1.0,\"#f0f921\"]]}],\"heatmap\":[{\"type\":\"heatmap\",\"colorbar\":{\"outlinewidth\":0,\"ticks\":\"\"},\"colorscale\":[[0.0,\"#0d0887\"],[0.1111111111111111,\"#46039f\"],[0.2222222222222222,\"#7201a8\"],[0.3333333333333333,\"#9c179e\"],[0.4444444444444444,\"#bd3786\"],[0.5555555555555556,\"#d8576b\"],[0.6666666666666666,\"#ed7953\"],[0.7777777777777778,\"#fb9f3a\"],[0.8888888888888888,\"#fdca26\"],[1.0,\"#f0f921\"]]}],\"heatmapgl\":[{\"type\":\"heatmapgl\",\"colorbar\":{\"outlinewidth\":0,\"ticks\":\"\"},\"colorscale\":[[0.0,\"#0d0887\"],[0.1111111111111111,\"#46039f\"],[0.2222222222222222,\"#7201a8\"],[0.3333333333333333,\"#9c179e\"],[0.4444444444444444,\"#bd3786\"],[0.5555555555555556,\"#d8576b\"],[0.6666666666666666,\"#ed7953\"],[0.7777777777777778,\"#fb9f3a\"],[0.8888888888888888,\"#fdca26\"],[1.0,\"#f0f921\"]]}],\"contourcarpet\":[{\"type\":\"contourcarpet\",\"colorbar\":{\"outlinewidth\":0,\"ticks\":\"\"}}],\"contour\":[{\"type\":\"contour\",\"colorbar\":{\"outlinewidth\":0,\"ticks\":\"\"},\"colorscale\":[[0.0,\"#0d0887\"],[0.1111111111111111,\"#46039f\"],[0.2222222222222222,\"#7201a8\"],[0.3333333333333333,\"#9c179e\"],[0.4444444444444444,\"#bd3786\"],[0.5555555555555556,\"#d8576b\"],[0.6666666666666666,\"#ed7953\"],[0.7777777777777778,\"#fb9f3a\"],[0.8888888888888888,\"#fdca26\"],[1.0,\"#f0f921\"]]}],\"surface\":[{\"type\":\"surface\",\"colorbar\":{\"outlinewidth\":0,\"ticks\":\"\"},\"colorscale\":[[0.0,\"#0d0887\"],[0.1111111111111111,\"#46039f\"],[0.2222222222222222,\"#7201a8\"],[0.3333333333333333,\"#9c179e\"],[0.4444444444444444,\"#bd3786\"],[0.5555555555555556,\"#d8576b\"],[0.6666666666666666,\"#ed7953\"],[0.7777777777777778,\"#fb9f3a\"],[0.8888888888888888,\"#fdca26\"],[1.0,\"#f0f921\"]]}],\"mesh3d\":[{\"type\":\"mesh3d\",\"colorbar\":{\"outlinewidth\":0,\"ticks\":\"\"}}],\"scatter\":[{\"fillpattern\":{\"fillmode\":\"overlay\",\"size\":10,\"solidity\":0.2},\"type\":\"scatter\"}],\"parcoords\":[{\"type\":\"parcoords\",\"line\":{\"colorbar\":{\"outlinewidth\":0,\"ticks\":\"\"}}}],\"scatterpolargl\":[{\"type\":\"scatterpolargl\",\"marker\":{\"colorbar\":{\"outlinewidth\":0,\"ticks\":\"\"}}}],\"bar\":[{\"error_x\":{\"color\":\"#2a3f5f\"},\"error_y\":{\"color\":\"#2a3f5f\"},\"marker\":{\"line\":{\"color\":\"#E5ECF6\",\"width\":0.5},\"pattern\":{\"fillmode\":\"overlay\",\"size\":10,\"solidity\":0.2}},\"type\":\"bar\"}],\"scattergeo\":[{\"type\":\"scattergeo\",\"marker\":{\"colorbar\":{\"outlinewidth\":0,\"ticks\":\"\"}}}],\"scatterpolar\":[{\"type\":\"scatterpolar\",\"marker\":{\"colorbar\":{\"outlinewidth\":0,\"ticks\":\"\"}}}],\"histogram\":[{\"marker\":{\"pattern\":{\"fillmode\":\"overlay\",\"size\":10,\"solidity\":0.2}},\"type\":\"histogram\"}],\"scattergl\":[{\"type\":\"scattergl\",\"marker\":{\"colorbar\":{\"outlinewidth\":0,\"ticks\":\"\"}}}],\"scatter3d\":[{\"type\":\"scatter3d\",\"line\":{\"colorbar\":{\"outlinewidth\":0,\"ticks\":\"\"}},\"marker\":{\"colorbar\":{\"outlinewidth\":0,\"ticks\":\"\"}}}],\"scattermapbox\":[{\"type\":\"scattermapbox\",\"marker\":{\"colorbar\":{\"outlinewidth\":0,\"ticks\":\"\"}}}],\"scatterternary\":[{\"type\":\"scatterternary\",\"marker\":{\"colorbar\":{\"outlinewidth\":0,\"ticks\":\"\"}}}],\"scattercarpet\":[{\"type\":\"scattercarpet\",\"marker\":{\"colorbar\":{\"outlinewidth\":0,\"ticks\":\"\"}}}],\"carpet\":[{\"aaxis\":{\"endlinecolor\":\"#2a3f5f\",\"gridcolor\":\"white\",\"linecolor\":\"white\",\"minorgridcolor\":\"white\",\"startlinecolor\":\"#2a3f5f\"},\"baxis\":{\"endlinecolor\":\"#2a3f5f\",\"gridcolor\":\"white\",\"linecolor\":\"white\",\"minorgridcolor\":\"white\",\"startlinecolor\":\"#2a3f5f\"},\"type\":\"carpet\"}],\"table\":[{\"cells\":{\"fill\":{\"color\":\"#EBF0F8\"},\"line\":{\"color\":\"white\"}},\"header\":{\"fill\":{\"color\":\"#C8D4E3\"},\"line\":{\"color\":\"white\"}},\"type\":\"table\"}],\"barpolar\":[{\"marker\":{\"line\":{\"color\":\"#E5ECF6\",\"width\":0.5},\"pattern\":{\"fillmode\":\"overlay\",\"size\":10,\"solidity\":0.2}},\"type\":\"barpolar\"}],\"pie\":[{\"automargin\":true,\"type\":\"pie\"}]},\"layout\":{\"autotypenumbers\":\"strict\",\"colorway\":[\"#636efa\",\"#EF553B\",\"#00cc96\",\"#ab63fa\",\"#FFA15A\",\"#19d3f3\",\"#FF6692\",\"#B6E880\",\"#FF97FF\",\"#FECB52\"],\"font\":{\"color\":\"#2a3f5f\"},\"hovermode\":\"closest\",\"hoverlabel\":{\"align\":\"left\"},\"paper_bgcolor\":\"white\",\"plot_bgcolor\":\"#E5ECF6\",\"polar\":{\"bgcolor\":\"#E5ECF6\",\"angularaxis\":{\"gridcolor\":\"white\",\"linecolor\":\"white\",\"ticks\":\"\"},\"radialaxis\":{\"gridcolor\":\"white\",\"linecolor\":\"white\",\"ticks\":\"\"}},\"ternary\":{\"bgcolor\":\"#E5ECF6\",\"aaxis\":{\"gridcolor\":\"white\",\"linecolor\":\"white\",\"ticks\":\"\"},\"baxis\":{\"gridcolor\":\"white\",\"linecolor\":\"white\",\"ticks\":\"\"},\"caxis\":{\"gridcolor\":\"white\",\"linecolor\":\"white\",\"ticks\":\"\"}},\"coloraxis\":{\"colorbar\":{\"outlinewidth\":0,\"ticks\":\"\"}},\"colorscale\":{\"sequential\":[[0.0,\"#0d0887\"],[0.1111111111111111,\"#46039f\"],[0.2222222222222222,\"#7201a8\"],[0.3333333333333333,\"#9c179e\"],[0.4444444444444444,\"#bd3786\"],[0.5555555555555556,\"#d8576b\"],[0.6666666666666666,\"#ed7953\"],[0.7777777777777778,\"#fb9f3a\"],[0.8888888888888888,\"#fdca26\"],[1.0,\"#f0f921\"]],\"sequentialminus\":[[0.0,\"#0d0887\"],[0.1111111111111111,\"#46039f\"],[0.2222222222222222,\"#7201a8\"],[0.3333333333333333,\"#9c179e\"],[0.4444444444444444,\"#bd3786\"],[0.5555555555555556,\"#d8576b\"],[0.6666666666666666,\"#ed7953\"],[0.7777777777777778,\"#fb9f3a\"],[0.8888888888888888,\"#fdca26\"],[1.0,\"#f0f921\"]],\"diverging\":[[0,\"#8e0152\"],[0.1,\"#c51b7d\"],[0.2,\"#de77ae\"],[0.3,\"#f1b6da\"],[0.4,\"#fde0ef\"],[0.5,\"#f7f7f7\"],[0.6,\"#e6f5d0\"],[0.7,\"#b8e186\"],[0.8,\"#7fbc41\"],[0.9,\"#4d9221\"],[1,\"#276419\"]]},\"xaxis\":{\"gridcolor\":\"white\",\"linecolor\":\"white\",\"ticks\":\"\",\"title\":{\"standoff\":15},\"zerolinecolor\":\"white\",\"automargin\":true,\"zerolinewidth\":2},\"yaxis\":{\"gridcolor\":\"white\",\"linecolor\":\"white\",\"ticks\":\"\",\"title\":{\"standoff\":15},\"zerolinecolor\":\"white\",\"automargin\":true,\"zerolinewidth\":2},\"scene\":{\"xaxis\":{\"backgroundcolor\":\"#E5ECF6\",\"gridcolor\":\"white\",\"linecolor\":\"white\",\"showbackground\":true,\"ticks\":\"\",\"zerolinecolor\":\"white\",\"gridwidth\":2},\"yaxis\":{\"backgroundcolor\":\"#E5ECF6\",\"gridcolor\":\"white\",\"linecolor\":\"white\",\"showbackground\":true,\"ticks\":\"\",\"zerolinecolor\":\"white\",\"gridwidth\":2},\"zaxis\":{\"backgroundcolor\":\"#E5ECF6\",\"gridcolor\":\"white\",\"linecolor\":\"white\",\"showbackground\":true,\"ticks\":\"\",\"zerolinecolor\":\"white\",\"gridwidth\":2}},\"shapedefaults\":{\"line\":{\"color\":\"#2a3f5f\"}},\"annotationdefaults\":{\"arrowcolor\":\"#2a3f5f\",\"arrowhead\":0,\"arrowwidth\":1},\"geo\":{\"bgcolor\":\"white\",\"landcolor\":\"#E5ECF6\",\"subunitcolor\":\"white\",\"showland\":true,\"showlakes\":true,\"lakecolor\":\"white\"},\"title\":{\"x\":0.05},\"mapbox\":{\"style\":\"light\"}}},\"title\":{\"text\":\"\\u6298\\u7ebf\\u56fe\\u793a\\u4f8b\"},\"xaxis\":{\"title\":{\"text\":\"X \\u8f74\"}},\"yaxis\":{\"title\":{\"text\":\"Y \\u8f74\"}},\"showlegend\":true},                        {\"responsive\": true}                    ).then(function(){\n",
       "                            \n",
       "var gd = document.getElementById('4d279c8d-d495-4490-b722-bc7b598e582b');\n",
       "var x = new MutationObserver(function (mutations, observer) {{\n",
       "        var display = window.getComputedStyle(gd).display;\n",
       "        if (!display || display === 'none') {{\n",
       "            console.log([gd, 'removed!']);\n",
       "            Plotly.purge(gd);\n",
       "            observer.disconnect();\n",
       "        }}\n",
       "}});\n",
       "\n",
       "// Listen for the removal of the full notebook cells\n",
       "var notebookContainer = gd.closest('#notebook-container');\n",
       "if (notebookContainer) {{\n",
       "    x.observe(notebookContainer, {childList: true});\n",
       "}}\n",
       "\n",
       "// Listen for the clearing of the current output cell\n",
       "var outputEl = gd.closest('.output');\n",
       "if (outputEl) {{\n",
       "    x.observe(outputEl, {childList: true});\n",
       "}}\n",
       "\n",
       "                        })                };                });            </script>        </div>"
      ]
     },
     "metadata": {},
     "output_type": "display_data"
    }
   ],
   "execution_count": 19
  },
  {
   "metadata": {
    "ExecuteTime": {
     "end_time": "2025-03-31T15:27:55.339603Z",
     "start_time": "2025-03-31T15:27:54.845726Z"
    }
   },
   "cell_type": "code",
   "source": [
    "from matplotlib import pyplot as plt\n",
    "\n",
    "plt.plot(np.arange(0, len(x)), x, marker='o', markersize=4)\n",
    "plt.xlabel('Time')\n",
    "plt.ylabel('Value')\n",
    "plt.title('Autoregressive process - Second order');"
   ],
   "id": "a09fb416aad9049e",
   "outputs": [
    {
     "data": {
      "text/plain": [
       "<Figure size 640x480 with 1 Axes>"
      ],
      "image/png": "[encoded data removed]"
     },
     "metadata": {},
     "output_type": "display_data"
    }
   ],
   "execution_count": 9
  },
  {
   "metadata": {},
   "cell_type": "code",
   "outputs": [],
   "execution_count": null,
   "source": "",
   "id": "b77c80d04d1abfab"
  }
 ],
 "metadata": {
  "kernelspec": {
   "display_name": "Python 3",
   "language": "python",
   "name": "python3"
  },
  "language_info": {
   "codemirror_mode": {
    "name": "ipython",
    "version": 2
   },
   "file_extension": ".py",
   "mimetype": "text/x-python",
   "name": "python",
   "nbconvert_exporter": "python",
   "pygments_lexer": "ipython2",
   "version": "2.7.6"
  }
 },
 "nbformat": 4,
 "nbformat_minor": 5
}
